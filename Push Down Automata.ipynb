{
 "cells": [
  {
   "cell_type": "code",
   "execution_count": 3,
   "metadata": {},
   "outputs": [],
   "source": [
    "from collections import deque "
   ]
  },
  {
   "cell_type": "code",
   "execution_count": 4,
   "metadata": {},
   "outputs": [],
   "source": [
    "start = \"\\033[1m\"\n",
    "end = \"\\033[0;0m\""
   ]
  },
  {
   "cell_type": "code",
   "execution_count": null,
   "metadata": {},
   "outputs": [
    {
     "name": "stdout",
     "output_type": "stream",
     "text": [
      "\u001b[1m Hello \u001b[0;0m\n",
      "Input = abb\n",
      "['a', 'b', 'b', 'empty']\n",
      "=>q0 to q1 with input empty : push $ dan pop empty\n",
      "stack now :  deque(['$'])\n",
      "=>q1 back to q1 with input a : push double a and pop empty\n",
      "stack now :  deque(['$', 'a', 'a'])\n",
      "=>q1 back q1 with input b : push empty and pop a\n",
      "stack now :  deque(['$', 'a'])\n",
      "=>q1 back q1 with input b : push empty and pop a\n",
      "stack now :  deque(['$'])\n",
      "stack now :  deque([])\n",
      "\u001b[1m PDA with abb as given language is Accepted \u001b[0;0m \n",
      "\n",
      "Do you want to try another language? (y/n) : y\n",
      "Input = abbbb\n",
      "['a', 'b', 'b', 'b', 'b', 'empty']\n",
      "=>q0 to q1 with input empty : push $ dan pop empty\n",
      "stack now :  deque(['$'])\n",
      "=>q1 back to q1 with input a : push double a and pop empty\n",
      "stack now :  deque(['$', 'a', 'a'])\n",
      "=>q1 back q1 with input b : push empty and pop a\n",
      "stack now :  deque(['$', 'a'])\n",
      "=>q1 back q1 with input b : push empty and pop a\n",
      "stack now :  deque(['$'])\n",
      "\u001b[1m PDA with abbbb as given language is rejected! \u001b[0;0m \n",
      "\n"
     ]
    }
   ],
   "source": [
    "print(start,\"Hello\",end)\n",
    "while(True):\n",
    "    state = 0\n",
    "    status = \"rejected!\"\n",
    "    inp = input (\"Input = \")\n",
    "    data = list(inp)\n",
    "    data.append('empty')\n",
    "    print(data)\n",
    "    pda = deque()\n",
    "    pda.append('$')\n",
    "    state = 1\n",
    "    print(\"=>q0 to q1 with input empty : push $ dan pop empty\")\n",
    "    print(\"stack now : \",pda)\n",
    "    for i in range(len(data)):\n",
    "        try:\n",
    "            if data[i]=='a' :\n",
    "                pda.append('a')\n",
    "                pda.append('a')\n",
    "                print(\"=>q1 back to q1 with input a : push double a and pop empty\")\n",
    "                print(\"stack now : \",pda)\n",
    "            elif data[i]=='b':\n",
    "                if pda[-1] == 'a':\n",
    "                    pda.pop()\n",
    "                    print(\"=>q1 back q1 with input b : push empty and pop a\")\n",
    "                    print(\"stack now : \",pda)\n",
    "                elif pda[-1] == '$':\n",
    "                    break\n",
    "            elif data[i] == 'empty' and pda[-1] == '$':\n",
    "                pda.pop()\n",
    "                print(\"stack now : \",pda)\n",
    "                state = 2\n",
    "                status = \"Accepted\"\n",
    "                break\n",
    "        except IndexError:\n",
    "            print(\"nothing to pop\")\n",
    "            break\n",
    "    print(start,\"PDA with\",inp,\"as given language is\",status,end,\"\\n\")\n",
    "    cek = input(\"Do you want to try another language? (y/n) : \")\n",
    "    if(cek == 'n'):\n",
    "        print(start,\"Bye ^^\",end)\n",
    "        break"
   ]
  },
  {
   "cell_type": "code",
   "execution_count": null,
   "metadata": {},
   "outputs": [],
   "source": []
  }
 ],
 "metadata": {
  "kernelspec": {
   "display_name": "Python 3",
   "language": "python",
   "name": "python3"
  }
 },
 "nbformat": 4,
 "nbformat_minor": 2
}
